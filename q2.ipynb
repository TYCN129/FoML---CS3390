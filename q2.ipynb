{
 "cells": [
  {
   "cell_type": "code",
   "execution_count": 1,
   "metadata": {},
   "outputs": [],
   "source": [
    "# Loading all the important datasets used in q1\n",
    "import numpy as np\n",
    "import matplotlib.pyplot as plt\n",
    "import scipy.io\n",
    "from sklearn.cluster import KMeans\n",
    "from sklearn.metrics import accuracy_score\n",
    "\n",
    "x_raw_data = np.load('./x_raw_data.npy')\n",
    "y_raw_data = np.load('./y_raw_data.npy')\n",
    "x_pca_data = np.load('./x_pca_data.npy')\n",
    "y_pca_data = np.load('./y_pca_data.npy')\n",
    "x_ten_data = np.load('./x_ten_data.npy')\n",
    "y_ten_data = np.load('./y_ten_data.npy')\n",
    "x_ten_pca_data = np.load('./x_ten_pca_data.npy')\n",
    "y_ten_pca_data = np.load('./y_ten_pca_data.npy')"
   ]
  },
  {
   "cell_type": "code",
   "execution_count": null,
   "metadata": {},
   "outputs": [],
   "source": [
    "# create a KMeans object\n",
    "kmeans = KMeans(n_clusters=10)\n",
    "\n",
    "# fit the model to the data\n",
    "kmeans.fit(x_raw_data)\n",
    "\n",
    "# get the cluster labels\n",
    "labels = kmeans.labels_\n",
    "\n",
    "# print the labels\n",
    "print(labels)\n"
   ]
  }
 ],
 "metadata": {
  "kernelspec": {
   "display_name": "Python 3",
   "language": "python",
   "name": "python3"
  },
  "language_info": {
   "codemirror_mode": {
    "name": "ipython",
    "version": 3
   },
   "file_extension": ".py",
   "mimetype": "text/x-python",
   "name": "python",
   "nbconvert_exporter": "python",
   "pygments_lexer": "ipython3",
   "version": "3.11.5"
  }
 },
 "nbformat": 4,
 "nbformat_minor": 2
}
