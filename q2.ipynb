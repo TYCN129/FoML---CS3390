{
 "cells": [
  {
   "cell_type": "code",
   "execution_count": null,
   "metadata": {},
   "outputs": [],
   "source": [
    "# Loading all the important datasets used in q1\n",
    "import numpy as np\n",
    "import matplotlib.pyplot as plt\n",
    "from scipy import stats as st\n",
    "from sklearn.cluster import KMeans\n",
    "from sklearn.metrics import accuracy_score, confusion_matrix, rand_score\n",
    "\n",
    "x_raw_data = np.load('./x_raw_data.npy')\n",
    "y_raw_data = np.load('./y_raw_data.npy')\n",
    "x_pca_data = np.load('./x_pca_data.npy')\n",
    "y_pca_data = np.load('./y_pca_data.npy')\n",
    "\n",
    "x_ten_data = np.load('./x_ten_data.npy')\n",
    "y_ten_data = np.load('./y_ten_data.npy')\n",
    "x_ten_pca_data = np.load('./x_ten_pca_data.npy')\n",
    "y_ten_pca_data = np.load('./y_ten_pca_data.npy')"
   ]
  },
  {
   "cell_type": "code",
   "execution_count": null,
   "metadata": {},
   "outputs": [],
   "source": [
    "def closest_images(kmeans, x_data):\n",
    "    closest_images = np.empty((0,x_data.shape[1]))\n",
    "    labels = kmeans.labels_\n",
    "    centroids = kmeans.cluster_centers_\n",
    "\n",
    "    for i in range(10):         # 10 clusters\n",
    "        cluster_data_points = x_data[labels == i]\n",
    "        cluster_centroid = centroids[i]\n",
    "        distances = np.linalg.norm(cluster_data_points - cluster_centroid,axis=1)\n",
    "        closest_images = np.append(closest_images, [x_data[np.argmin(distances)]], axis=0)\n",
    "\n",
    "    print(closest_images)\n",
    "    return closest_images"
   ]
  },
  {
   "cell_type": "code",
   "execution_count": null,
   "metadata": {},
   "outputs": [],
   "source": [
    "# x_raw_data\n",
    "def cluster(x_data):\n",
    "    kmeans = KMeans(n_clusters=10)\n",
    "    kmeans.fit(x_data)\n",
    "\n",
    "    # print(kmeans.labels_)\n",
    "    # print(kmeans.cluster_centers_)\n",
    "    return kmeans"
   ]
  },
  {
   "cell_type": "code",
   "execution_count": null,
   "metadata": {},
   "outputs": [],
   "source": [
    "kmeans_raw = cluster(x_raw_data)\n",
    "# labels = kmeans_raw.labels_\n",
    "# centroids = kmeans_raw.cluster_centers_\n",
    "closest_images_raw = closest_images(kmeans_raw, x_raw_data)"
   ]
  },
  {
   "cell_type": "code",
   "execution_count": null,
   "metadata": {},
   "outputs": [],
   "source": [
    "kmeans_ten = cluster(x_pca_data[:,:10])\n",
    "closest_images_ten = closest_images(kmeans_ten, x_pca_data[:,:10])"
   ]
  },
  {
   "cell_type": "code",
   "execution_count": null,
   "metadata": {},
   "outputs": [],
   "source": [
    "kmeans_pov_90 = cluster(x_pca_data[:,:26])\n",
    "closest_images_pov_90 = closest_images(kmeans_pov_90, x_pca_data[:,:26])"
   ]
  },
  {
   "cell_type": "code",
   "execution_count": null,
   "metadata": {},
   "outputs": [],
   "source": []
  },
  {
   "cell_type": "markdown",
   "metadata": {},
   "source": [
    "2b."
   ]
  },
  {
   "cell_type": "code",
   "execution_count": null,
   "metadata": {},
   "outputs": [],
   "source": [
    "def calculate_sse(kmeans,x_data):\n",
    "    labels = kmeans.labels_\n",
    "    centroids = kmeans.cluster_centers_\n",
    "    sse = 0\n",
    "\n",
    "    for i in range(10):     # 10 clusters\n",
    "        cluster_data_points = x_data[labels == i]\n",
    "        sse += np.sum((cluster_data_points - centroids[i])**2)\n",
    "\n",
    "    return sse"
   ]
  },
  {
   "cell_type": "code",
   "execution_count": null,
   "metadata": {},
   "outputs": [],
   "source": []
  },
  {
   "cell_type": "code",
   "execution_count": null,
   "metadata": {},
   "outputs": [],
   "source": [
    "# Purity measures the extent to which all the data points in a cluster belong to the same class\n",
    "def calculate_purity(kmean,x_data,y_data):\n",
    "    y_pred = kmean.predict(x_data)\n",
    "    # TODO: map from cluster_num to label\n",
    "\n",
    "    conf_mat = confusion_matrix(y_data,y_pred)\n",
    "    purity = np.sum(np.amax(conf_mat,axis=0)) / np.sum(conf_mat)\n",
    "\n",
    "    return purity"
   ]
  },
  {
   "cell_type": "code",
   "execution_count": null,
   "metadata": {},
   "outputs": [],
   "source": [
    "# Rand-index is a measure of similarity between true and predicted clusterings\n",
    "def calculate_rand_index(kmean,x_data,y_data):\n",
    "    y_pred = kmean.predict(x_data)\n",
    "    rand_index = rand_score(y_data,y_pred)\n",
    "\n",
    "    return rand_index"
   ]
  },
  {
   "cell_type": "code",
   "execution_count": null,
   "metadata": {},
   "outputs": [],
   "source": [
    "purity = calculate_purity(kmeans_pov_90,x_pca_data[:,:26],y_pca_data)\n",
    "print(purity)\n",
    "\n",
    "rand_index = calculate_rand_index(kmeans_pov_90,x_pca_data[:,:26],y_pca_data)\n",
    "print(rand_index)"
   ]
  },
  {
   "cell_type": "code",
   "execution_count": null,
   "metadata": {},
   "outputs": [],
   "source": [
    "def label_clusters(kmean, y_data):\n",
    "    cluster_to_label = np.empty((0,))\n",
    "    labels = kmean.labels_\n",
    "    for i in range(0,10):           # cluster numbers 0 to 9\n",
    "        temp = y_raw_data[labels == i]\n",
    "        temp = list(temp)\n",
    "        counts = {j:temp.count(j) for j in temp}\n",
    "        print('cluster', i, '-->', counts)\n",
    "\n",
    "        mode = st.mode(temp).mode\n",
    "        cluster_to_label = np.append(cluster_to_label,mode)\n",
    "\n",
    "    print(cluster_to_label)\n",
    "\n",
    "label_clusters(kmeans_raw, y_raw_data)\n",
    "label_clusters(kmeans_ten, y_raw_data)"
   ]
  }
 ],
 "metadata": {
  "kernelspec": {
   "display_name": "Python 3 (ipykernel)",
   "language": "python",
   "name": "python3"
  },
  "language_info": {
   "codemirror_mode": {
    "name": "ipython",
    "version": 3
   },
   "file_extension": ".py",
   "mimetype": "text/x-python",
   "name": "python",
   "nbconvert_exporter": "python",
   "pygments_lexer": "ipython3",
   "version": "3.11.5"
  }
 },
 "nbformat": 4,
 "nbformat_minor": 4
}
